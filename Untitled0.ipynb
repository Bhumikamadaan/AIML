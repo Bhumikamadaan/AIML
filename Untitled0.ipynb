{
  "nbformat": 4,
  "nbformat_minor": 0,
  "metadata": {
    "colab": {
      "provenance": []
    },
    "kernelspec": {
      "name": "python3",
      "display_name": "Python 3"
    },
    "language_info": {
      "name": "python"
    }
  },
  "cells": [
    {
      "cell_type": "code",
      "source": [
        "import numpy as np\n",
        "\n",
        "a = np.array([1,2,3,4])"
      ],
      "metadata": {
        "id": "vgU_AQELG9CL"
      },
      "execution_count": 7,
      "outputs": []
    },
    {
      "cell_type": "code",
      "source": [
        "b = np.array([1,2,3,4])\n",
        "c = a+b\n",
        "print(c)\n",
        "c.sort()\n",
        "print(c)\n",
        "d = np.array([(1,2,3),(4,5,6)])\n",
        "e =np.array([[1,2,3],[4,5,6]])\n",
        "f=d+e\n",
        "print(f)\n",
        "f=d*e\n",
        "print(f)\n",
        "g=np.zeros((3,3))\n",
        "print(g)\n",
        "h=np.ones((2,4))\n",
        "print(h)\n",
        "i=np.arange(100,150,20) # a is start, c differnce\n",
        "print(i)"
      ],
      "metadata": {
        "colab": {
          "base_uri": "https://localhost:8080/"
        },
        "id": "Op5khTBmIOfk",
        "outputId": "98629481-3ee7-4a45-9ca0-7cfe3efa83f6"
      },
      "execution_count": 37,
      "outputs": [
        {
          "output_type": "stream",
          "name": "stdout",
          "text": [
            "[2 4 6 8]\n",
            "[2 4 6 8]\n",
            "[[ 2  4  6]\n",
            " [ 8 10 12]]\n",
            "[[ 1  4  9]\n",
            " [16 25 36]]\n",
            "[[0. 0. 0.]\n",
            " [0. 0. 0.]\n",
            " [0. 0. 0.]]\n",
            "[[1. 1. 1. 1.]\n",
            " [1. 1. 1. 1.]]\n",
            "[100 120 140]\n"
          ]
        }
      ]
    },
    {
      "cell_type": "code",
      "source": [
        "j=np.linspace(0,2,9)\n",
        "print(j)\n"
      ],
      "metadata": {
        "colab": {
          "base_uri": "https://localhost:8080/"
        },
        "id": "jMDTaof4L6EV",
        "outputId": "54917418-2d60-4e0d-c693-e38508ac7328"
      },
      "execution_count": 39,
      "outputs": [
        {
          "output_type": "stream",
          "name": "stdout",
          "text": [
            "[0.   0.25 0.5  0.75 1.   1.25 1.5  1.75 2.  ]\n"
          ]
        }
      ]
    },
    {
      "cell_type": "code",
      "source": [
        "k=np.linspace(1,15,6)  # c=  how many no we want, a,b are the range\n",
        "print(k)\n",
        "k.sort()\n",
        "print(k)"
      ],
      "metadata": {
        "colab": {
          "base_uri": "https://localhost:8080/"
        },
        "id": "pDUEGyuoMWzX",
        "outputId": "7116a786-ca39-4773-da44-27fbcc0ab126"
      },
      "execution_count": 41,
      "outputs": [
        {
          "output_type": "stream",
          "name": "stdout",
          "text": [
            "[ 1.   3.8  6.6  9.4 12.2 15. ]\n",
            "[ 1.   3.8  6.6  9.4 12.2 15. ]\n"
          ]
        }
      ]
    },
    {
      "cell_type": "code",
      "source": [
        "l=np.full((2,3),10)\n",
        "print(l)"
      ],
      "metadata": {
        "colab": {
          "base_uri": "https://localhost:8080/"
        },
        "id": "VWjkYQLxMvQY",
        "outputId": "276730f6-bff6-4053-e1d0-9b1928ecbe56"
      },
      "execution_count": 46,
      "outputs": [
        {
          "output_type": "stream",
          "name": "stdout",
          "text": [
            "[[10 10 10]\n",
            " [10 10 10]]\n"
          ]
        }
      ]
    },
    {
      "cell_type": "code",
      "source": [
        "m=np.eye(2) # for identity matrix\n",
        "print(m)"
      ],
      "metadata": {
        "colab": {
          "base_uri": "https://localhost:8080/"
        },
        "id": "Sjnmd96wNH_x",
        "outputId": "bcfff4e3-efe6-4854-b496-5b45476bd4cd"
      },
      "execution_count": 48,
      "outputs": [
        {
          "output_type": "stream",
          "name": "stdout",
          "text": [
            "[[1. 0.]\n",
            " [0. 1.]]\n"
          ]
        }
      ]
    },
    {
      "cell_type": "code",
      "source": [
        "n=np.random.random((2,2))\n",
        "print(n)"
      ],
      "metadata": {
        "colab": {
          "base_uri": "https://localhost:8080/"
        },
        "id": "nbyy9VIBOBXM",
        "outputId": "01a45e82-faa6-406f-e5c6-d8259bdee835"
      },
      "execution_count": 51,
      "outputs": [
        {
          "output_type": "stream",
          "name": "stdout",
          "text": [
            "[[0.24404742 0.81700813]\n",
            " [0.93988749 0.53403311]]\n"
          ]
        }
      ]
    },
    {
      "cell_type": "code",
      "source": [
        "n=np.random.random((2,2))\n",
        "print(n)"
      ],
      "metadata": {
        "colab": {
          "base_uri": "https://localhost:8080/"
        },
        "outputId": "51ea0704-fd9f-493d-f45f-d2efc8549143",
        "id": "JbiMNteGOSVq"
      },
      "execution_count": 54,
      "outputs": [
        {
          "output_type": "stream",
          "name": "stdout",
          "text": [
            "[[0.17897032 0.91617436]\n",
            " [0.3204126  0.70379172]]\n"
          ]
        }
      ]
    },
    {
      "cell_type": "code",
      "source": [
        "n # printig the value of n"
      ],
      "metadata": {
        "colab": {
          "base_uri": "https://localhost:8080/"
        },
        "id": "DQQ5d6XfOjt5",
        "outputId": "8806f313-5cc3-4e93-cd06-56d4ac282f76"
      },
      "execution_count": 55,
      "outputs": [
        {
          "output_type": "execute_result",
          "data": {
            "text/plain": [
              "array([[0.17897032, 0.91617436],\n",
              "       [0.3204126 , 0.70379172]])"
            ]
          },
          "metadata": {},
          "execution_count": 55
        }
      ]
    },
    {
      "cell_type": "code",
      "source": [],
      "metadata": {
        "id": "oVZoYMu4Ol3X"
      },
      "execution_count": null,
      "outputs": []
    }
  ]
}